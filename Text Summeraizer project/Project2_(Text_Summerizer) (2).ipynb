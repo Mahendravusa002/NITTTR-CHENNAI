{
  "cells": [
    {
      "cell_type": "markdown",
      "metadata": {
        "id": "Fp7HVeWybD_T"
      },
      "source": [
        "# TEXT SUMMERIZER"
      ]
    },
    {
      "cell_type": "markdown",
      "source": [
        "# Process:\n",
        "\n",
        "**Load Text and Preprocess:**\n",
        "\n",
        "\n",
        "\n",
        "*   Load the text to be summarized.\n",
        "*   Define stop words using nltk.corpus.stopwords.\n",
        "\n",
        "**Create Frequency Table:**\n",
        "* Generate a frequency table of significant words in the text.\n",
        "\n",
        "\n",
        "\n",
        "**Score Sentences:**\n",
        "*   Tokenize the text into sentences and score each sentence based on word frequencies.\n",
        "\n",
        "\n",
        "\n",
        "\n",
        "**Calculate Average Score:**\n",
        "\n",
        "\n",
        "* Calculate the average sentence score to determine the threshold for selecting sentences.  \n",
        "\n",
        "\n",
        "\n",
        "\n",
        "**Generate Summary:**\n",
        "\n",
        "* Generate the summary by selecting sentences that have a score above the threshold.\n"
      ],
      "metadata": {
        "id": "flYLJMQ5QcPr"
      }
    },
    {
      "cell_type": "markdown",
      "metadata": {
        "id": "ot5SHQ2YbD_W"
      },
      "source": [
        "# Importing Neccessary Libraries"
      ]
    },
    {
      "cell_type": "code",
      "execution_count": null,
      "metadata": {
        "id": "_MiEyf7anfVW"
      },
      "outputs": [],
      "source": [
        "from nltk.tokenize import word_tokenize,sent_tokenize\n",
        "from nltk.corpus import stopwords\n",
        "import nltk\n",
        "nltk.download('punkt')\n",
        "nltk.download('stopwords')\n"
      ]
    },
    {
      "cell_type": "markdown",
      "metadata": {
        "id": "dyI_GXxPbD_Y"
      },
      "source": [
        "# Input Text"
      ]
    },
    {
      "cell_type": "code",
      "execution_count": null,
      "metadata": {
        "colab": {
          "background_save": true
        },
        "id": "mVqhTvx9oKbq"
      },
      "outputs": [],
      "source": [
        "text = \"\"\"\n",
        "Climate change refers to significant, long-term changes in the global climate.\n",
        "The global climate is the connected system of sun, earth, and oceans, wind, rain,\n",
        "and snow, forests, deserts, and savannas, and everything people do, too. The climate of\n",
        "a place, say New York, can be described as its rainfall, changing temperatures during the year,\n",
        "and so on. However, the global climate is more than the “average” of the climates of specific places.\n",
        "A climate change on a global scale requires a change in the energy balance of the earth.\n",
        "This might occur through changes in the sun's energy reaching the earth, changes in the reflected energy from\n",
        "the earth's surface, changes in the amount of heat held by the atmosphere, or a combination of these factors.\n",
        "Over the last century, human activities have released large amounts of carbon dioxide and other greenhouse gases\n",
        "into the atmosphere, leading to an enhanced greenhouse effect and global warming.\n",
        "The consequences of climate change are profound and far-reaching. Rising temperatures are melting polar ice caps\n",
        "and glaciers, leading to rising sea levels. This poses a threat to coastal communities, causing increased flooding\n",
        "and erosion. Changes in precipitation patterns are resulting in more intense and frequent droughts in some areas,\n",
        "while other regions experience heavier and more unpredictable rainfall, leading to flooding.\n",
        "Ecosystems and biodiversity are also at risk due to climate change. Many species are struggling to adapt to the\n",
        "rapid changes in their environments, which can lead to shifts in population distributions and even extinctions.\n",
        "Ocean acidification, caused by increased CO2 absorption, is negatively affecting marine life, particularly coral\n",
        "reefs and shellfish.\n",
        "Human health is directly impacted by climate change as well. Increased temperatures can lead to heatwaves, which\n",
        "pose serious health risks, particularly for vulnerable populations such as the elderly and those with preexisting\n",
        "health conditions. The spread of infectious diseases is also influenced by changing climates, with diseases like\n",
        "malaria and dengue fever potentially expanding into new regions.\n",
        "Addressing climate change requires global cooperation and immediate action. Efforts to mitigate climate change\n",
        "include reducing greenhouse gas emissions through the adoption of renewable energy sources, improving energy\n",
        "efficiency, and promoting sustainable practices. Additionally, adaptation strategies are necessary to help\n",
        "communities cope with the changes that are already occurring. This includes building resilient infrastructure,\n",
        "protecting natural ecosystems, and developing early warning systems for extreme weather events.\n",
        "In conclusion, climate change is a complex and multifaceted issue that demands urgent attention and action from\n",
        "individuals, communities, and governments worldwide. By understanding the causes and impacts of climate change,\n",
        "we can work towards solutions that protect our planet and ensure a sustainable future for generations to come.\n",
        "\"\"\""
      ]
    },
    {
      "cell_type": "markdown",
      "metadata": {
        "id": "TcSJ6qM2bD_Y"
      },
      "source": [
        "# Tokenizing"
      ]
    },
    {
      "cell_type": "code",
      "execution_count": null,
      "metadata": {
        "colab": {
          "background_save": true,
          "base_uri": "https://localhost:8080/"
        },
        "id": "7pRov4MNo1Jy",
        "outputId": "dc0024de-6a37-4164-c8c7-b4c623f88a25"
      },
      "outputs": [
        {
          "name": "stdout",
          "output_type": "stream",
          "text": [
            "['Climate', 'change', 'refers', 'to', 'significant', ',', 'long-term', 'changes', 'in', 'the', 'global', 'climate', '.', 'The', 'global', 'climate', 'is', 'the', 'connected', 'system', 'of', 'sun', ',', 'earth', ',', 'and', 'oceans', ',', 'wind', ',', 'rain', ',', 'and', 'snow', ',', 'forests', ',', 'deserts', ',', 'and', 'savannas', ',', 'and', 'everything', 'people', 'do', ',', 'too', '.', 'The', 'climate', 'of', 'a', 'place', ',', 'say', 'New', 'York', ',', 'can', 'be', 'described', 'as', 'its', 'rainfall', ',', 'changing', 'temperatures', 'during', 'the', 'year', ',', 'and', 'so', 'on', '.', 'However', ',', 'the', 'global', 'climate', 'is', 'more', 'than', 'the', '“', 'average', '”', 'of', 'the', 'climates', 'of', 'specific', 'places', '.', 'A', 'climate', 'change', 'on', 'a', 'global', 'scale', 'requires', 'a', 'change', 'in', 'the', 'energy', 'balance', 'of', 'the', 'earth', '.', 'This', 'might', 'occur', 'through', 'changes', 'in', 'the', 'sun', \"'s\", 'energy', 'reaching', 'the', 'earth', ',', 'changes', 'in', 'the', 'reflected', 'energy', 'from', 'the', 'earth', \"'s\", 'surface', ',', 'changes', 'in', 'the', 'amount', 'of', 'heat', 'held', 'by', 'the', 'atmosphere', ',', 'or', 'a', 'combination', 'of', 'these', 'factors', '.', 'Over', 'the', 'last', 'century', ',', 'human', 'activities', 'have', 'released', 'large', 'amounts', 'of', 'carbon', 'dioxide', 'and', 'other', 'greenhouse', 'gases', 'into', 'the', 'atmosphere', ',', 'leading', 'to', 'an', 'enhanced', 'greenhouse', 'effect', 'and', 'global', 'warming', '.', 'The', 'consequences', 'of', 'climate', 'change', 'are', 'profound', 'and', 'far-reaching', '.', 'Rising', 'temperatures', 'are', 'melting', 'polar', 'ice', 'caps', 'and', 'glaciers', ',', 'leading', 'to', 'rising', 'sea', 'levels', '.', 'This', 'poses', 'a', 'threat', 'to', 'coastal', 'communities', ',', 'causing', 'increased', 'flooding', 'and', 'erosion', '.', 'Changes', 'in', 'precipitation', 'patterns', 'are', 'resulting', 'in', 'more', 'intense', 'and', 'frequent', 'droughts', 'in', 'some', 'areas', ',', 'while', 'other', 'regions', 'experience', 'heavier', 'and', 'more', 'unpredictable', 'rainfall', ',', 'leading', 'to', 'flooding', '.', 'Ecosystems', 'and', 'biodiversity', 'are', 'also', 'at', 'risk', 'due', 'to', 'climate', 'change', '.', 'Many', 'species', 'are', 'struggling', 'to', 'adapt', 'to', 'the', 'rapid', 'changes', 'in', 'their', 'environments', ',', 'which', 'can', 'lead', 'to', 'shifts', 'in', 'population', 'distributions', 'and', 'even', 'extinctions', '.', 'Ocean', 'acidification', ',', 'caused', 'by', 'increased', 'CO2', 'absorption', ',', 'is', 'negatively', 'affecting', 'marine', 'life', ',', 'particularly', 'coral', 'reefs', 'and', 'shellfish', '.', 'Human', 'health', 'is', 'directly', 'impacted', 'by', 'climate', 'change', 'as', 'well', '.', 'Increased', 'temperatures', 'can', 'lead', 'to', 'heatwaves', ',', 'which', 'pose', 'serious', 'health', 'risks', ',', 'particularly', 'for', 'vulnerable', 'populations', 'such', 'as', 'the', 'elderly', 'and', 'those', 'with', 'preexisting', 'health', 'conditions', '.', 'The', 'spread', 'of', 'infectious', 'diseases', 'is', 'also', 'influenced', 'by', 'changing', 'climates', ',', 'with', 'diseases', 'like', 'malaria', 'and', 'dengue', 'fever', 'potentially', 'expanding', 'into', 'new', 'regions', '.', 'Addressing', 'climate', 'change', 'requires', 'global', 'cooperation', 'and', 'immediate', 'action', '.', 'Efforts', 'to', 'mitigate', 'climate', 'change', 'include', 'reducing', 'greenhouse', 'gas', 'emissions', 'through', 'the', 'adoption', 'of', 'renewable', 'energy', 'sources', ',', 'improving', 'energy', 'efficiency', ',', 'and', 'promoting', 'sustainable', 'practices', '.', 'Additionally', ',', 'adaptation', 'strategies', 'are', 'necessary', 'to', 'help', 'communities', 'cope', 'with', 'the', 'changes', 'that', 'are', 'already', 'occurring', '.', 'This', 'includes', 'building', 'resilient', 'infrastructure', ',', 'protecting', 'natural', 'ecosystems', ',', 'and', 'developing', 'early', 'warning', 'systems', 'for', 'extreme', 'weather', 'events', '.', 'In', 'conclusion', ',', 'climate', 'change', 'is', 'a', 'complex', 'and', 'multifaceted', 'issue', 'that', 'demands', 'urgent', 'attention', 'and', 'action', 'from', 'individuals', ',', 'communities', ',', 'and', 'governments', 'worldwide', '.', 'By', 'understanding', 'the', 'causes', 'and', 'impacts', 'of', 'climate', 'change', ',', 'we', 'can', 'work', 'towards', 'solutions', 'that', 'protect', 'our', 'planet', 'and', 'ensure', 'a', 'sustainable', 'future', 'for', 'generations', 'to', 'come', '.']\n"
          ]
        }
      ],
      "source": [
        "words=word_tokenize(text)\n",
        "print(words)"
      ]
    },
    {
      "cell_type": "markdown",
      "metadata": {
        "id": "MEYwJ_r6bD_Z"
      },
      "source": [
        "# Getting  StopWords"
      ]
    },
    {
      "cell_type": "code",
      "execution_count": null,
      "metadata": {
        "colab": {
          "base_uri": "https://localhost:8080/"
        },
        "id": "tpp2JswuomxW",
        "outputId": "4e14ff19-45d6-41a7-88f3-7dfc72e28580"
      },
      "outputs": [
        {
          "name": "stdout",
          "output_type": "stream",
          "text": [
            "{'t', 'below', 'but', 'off', 'when', 'if', 'couldn', 'herself', 'who', 'no', 'your', 'out', 'ain', 'this', 'up', 've', 'what', 'o', 'how', 'own', 'nor', 'myself', 'having', 'doing', 'you', \"aren't\", \"wasn't\", 'himself', 'through', \"wouldn't\", 'above', 'd', \"you've\", 'same', 'about', 'other', \"it's\", 'shouldn', 'my', \"hasn't\", 'for', 'needn', 'don', \"should've\", \"you'll\", 'any', 'were', 'm', 'they', \"didn't\", 'it', 'the', 'there', 'our', 'because', 'be', 'further', \"mightn't\", 'some', 'shan', 'had', \"doesn't\", \"won't\", \"couldn't\", 'of', 'just', 'both', 'most', 'have', 'should', \"that'll\", 'each', 'to', 'as', 'yourself', 'was', 'during', 'from', 'hasn', 'with', 'now', 'isn', \"she's\", 'over', 'while', 'their', 'that', 'wasn', 'can', 'themselves', \"mustn't\", \"hadn't\", 'we', 'again', 'her', 'i', 'ours', 'me', 'not', 'on', 'then', 'a', 'against', 'haven', 'such', 'than', 'them', 'am', 'into', \"don't\", 'hadn', \"haven't\", 'ma', 'didn', 'all', 'weren', \"shan't\", 's', \"you'd\", 'hers', \"needn't\", 'those', 'll', 're', 'been', 'between', 'at', 'too', 'mightn', 'an', 'will', 'why', 'yourselves', 'or', 'being', 'down', 'after', 'him', 'yours', 'wouldn', 'where', 'so', 'before', 'under', 'in', 'aren', 'ourselves', 'very', 'do', 'doesn', \"you're\", 'he', 'are', 'won', 'by', 'once', 'until', 'few', 'and', \"weren't\", 'did', 'whom', 'these', 'which', 'mustn', \"isn't\", 'has', 'y', 'its', 'does', 'itself', 'only', 'she', 'here', 'his', 'more', \"shouldn't\", 'theirs', 'is'}\n"
          ]
        }
      ],
      "source": [
        "stop_words=set(stopwords.words(\"english\"))\n",
        "print(stop_words)"
      ]
    },
    {
      "cell_type": "code",
      "execution_count": null,
      "metadata": {
        "colab": {
          "base_uri": "https://localhost:8080/"
        },
        "id": "Y_9zfDV9-r6j",
        "outputId": "ecf359dd-ea2a-4733-aaf3-f4b9c0bdf19b"
      },
      "outputs": [
        {
          "name": "stdout",
          "output_type": "stream",
          "text": [
            "{'climate': 13, 'change': 10, 'refers': 1, 'significant': 1, ',': 41, 'long-term': 1, 'changes': 7, 'global': 6, '.': 23, 'connected': 1, 'system': 1, 'sun': 2, 'earth': 4, 'oceans': 1, 'wind': 1, 'rain': 1, 'snow': 1, 'forests': 1, 'deserts': 1, 'savannas': 1, 'everything': 1, 'people': 1, 'place': 1, 'say': 1, 'new': 2, 'york': 1, 'described': 1, 'rainfall': 2, 'changing': 2, 'temperatures': 3, 'year': 1, 'however': 1, '“': 1, 'average': 1, '”': 1, 'climates': 2, 'specific': 1, 'places': 1, 'scale': 1, 'requires': 2, 'energy': 5, 'balance': 1, 'might': 1, 'occur': 1, \"'s\": 2, 'reaching': 1, 'reflected': 1, 'surface': 1, 'amount': 1, 'heat': 1, 'held': 1, 'atmosphere': 2, 'combination': 1, 'factors': 1, 'last': 1, 'century': 1, 'human': 2, 'activities': 1, 'released': 1, 'large': 1, 'amounts': 1, 'carbon': 1, 'dioxide': 1, 'greenhouse': 3, 'gases': 1, 'leading': 3, 'enhanced': 1, 'effect': 1, 'warming': 1, 'consequences': 1, 'profound': 1, 'far-reaching': 1, 'rising': 2, 'melting': 1, 'polar': 1, 'ice': 1, 'caps': 1, 'glaciers': 1, 'sea': 1, 'levels': 1, 'poses': 1, 'threat': 1, 'coastal': 1, 'communities': 3, 'causing': 1, 'increased': 3, 'flooding': 2, 'erosion': 1, 'precipitation': 1, 'patterns': 1, 'resulting': 1, 'intense': 1, 'frequent': 1, 'droughts': 1, 'areas': 1, 'regions': 2, 'experience': 1, 'heavier': 1, 'unpredictable': 1, 'ecosystems': 2, 'biodiversity': 1, 'also': 2, 'risk': 1, 'due': 1, 'many': 1, 'species': 1, 'struggling': 1, 'adapt': 1, 'rapid': 1, 'environments': 1, 'lead': 2, 'shifts': 1, 'population': 1, 'distributions': 1, 'even': 1, 'extinctions': 1, 'ocean': 1, 'acidification': 1, 'caused': 1, 'co2': 1, 'absorption': 1, 'negatively': 1, 'affecting': 1, 'marine': 1, 'life': 1, 'particularly': 2, 'coral': 1, 'reefs': 1, 'shellfish': 1, 'health': 3, 'directly': 1, 'impacted': 1, 'well': 1, 'heatwaves': 1, 'pose': 1, 'serious': 1, 'risks': 1, 'vulnerable': 1, 'populations': 1, 'elderly': 1, 'preexisting': 1, 'conditions': 1, 'spread': 1, 'infectious': 1, 'diseases': 2, 'influenced': 1, 'like': 1, 'malaria': 1, 'dengue': 1, 'fever': 1, 'potentially': 1, 'expanding': 1, 'addressing': 1, 'cooperation': 1, 'immediate': 1, 'action': 2, 'efforts': 1, 'mitigate': 1, 'include': 1, 'reducing': 1, 'gas': 1, 'emissions': 1, 'adoption': 1, 'renewable': 1, 'sources': 1, 'improving': 1, 'efficiency': 1, 'promoting': 1, 'sustainable': 2, 'practices': 1, 'additionally': 1, 'adaptation': 1, 'strategies': 1, 'necessary': 1, 'help': 1, 'cope': 1, 'already': 1, 'occurring': 1, 'includes': 1, 'building': 1, 'resilient': 1, 'infrastructure': 1, 'protecting': 1, 'natural': 1, 'developing': 1, 'early': 1, 'warning': 1, 'systems': 1, 'extreme': 1, 'weather': 1, 'events': 1, 'conclusion': 1, 'complex': 1, 'multifaceted': 1, 'issue': 1, 'demands': 1, 'urgent': 1, 'attention': 1, 'individuals': 1, 'governments': 1, 'worldwide': 1, 'understanding': 1, 'causes': 1, 'impacts': 1, 'work': 1, 'towards': 1, 'solutions': 1, 'protect': 1, 'planet': 1, 'ensure': 1, 'future': 1, 'generations': 1, 'come': 1}\n"
          ]
        }
      ],
      "source": [
        "# Function to create frequency table\n",
        "\n",
        "def create_frequency_table(text,stop_words,words):\n",
        "    freq_table = {}\n",
        "    for word in words:\n",
        "        word = word.lower()\n",
        "        if word in stop_words:\n",
        "            continue\n",
        "        if word in freq_table:\n",
        "            freq_table[word] += 1\n",
        "        else:\n",
        "            freq_table[word] = 1\n",
        "    return freq_table\n",
        "\n",
        "freq_table = create_frequency_table(text,stop_words,words)\n",
        "print(freq_table)"
      ]
    },
    {
      "cell_type": "code",
      "execution_count": null,
      "metadata": {
        "colab": {
          "base_uri": "https://localhost:8080/"
        },
        "id": "jJojmUVq_V0Q",
        "outputId": "ab16e6c6-ab3c-4ce6-80c8-3de34d2c9329"
      },
      "outputs": [
        {
          "name": "stdout",
          "output_type": "stream",
          "text": [
            "['\\nClimate change refers to significant, long-term changes in the global climate.', 'The global climate is the connected system of sun, earth, and oceans, wind, rain, \\nand snow, forests, deserts, and savannas, and everything people do, too.', 'The climate of\\na place, say New York, can be described as its rainfall, changing temperatures during the year,\\nand so on.', 'However, the global climate is more than the “average” of the climates of specific places.', 'A climate change on a global scale requires a change in the energy balance of the earth.', \"This might occur through changes in the sun's energy reaching the earth, changes in the reflected energy from \\nthe earth's surface, changes in the amount of heat held by the atmosphere, or a combination of these factors.\", 'Over the last century, human activities have released large amounts of carbon dioxide and other greenhouse gases \\ninto the atmosphere, leading to an enhanced greenhouse effect and global warming.', 'The consequences of climate change are profound and far-reaching.', 'Rising temperatures are melting polar ice caps \\nand glaciers, leading to rising sea levels.', 'This poses a threat to coastal communities, causing increased flooding \\nand erosion.', 'Changes in precipitation patterns are resulting in more intense and frequent droughts in some areas, \\nwhile other regions experience heavier and more unpredictable rainfall, leading to flooding.', 'Ecosystems and biodiversity are also at risk due to climate change.', 'Many species are struggling to adapt to the \\nrapid changes in their environments, which can lead to shifts in population distributions and even extinctions.', 'Ocean acidification, caused by increased CO2 absorption, is negatively affecting marine life, particularly coral \\nreefs and shellfish.', 'Human health is directly impacted by climate change as well.', 'Increased temperatures can lead to heatwaves, which \\npose serious health risks, particularly for vulnerable populations such as the elderly and those with preexisting \\nhealth conditions.', 'The spread of infectious diseases is also influenced by changing climates, with diseases like \\nmalaria and dengue fever potentially expanding into new regions.', 'Addressing climate change requires global cooperation and immediate action.', 'Efforts to mitigate climate change \\ninclude reducing greenhouse gas emissions through the adoption of renewable energy sources, improving energy \\nefficiency, and promoting sustainable practices.', 'Additionally, adaptation strategies are necessary to help \\ncommunities cope with the changes that are already occurring.', 'This includes building resilient infrastructure, \\nprotecting natural ecosystems, and developing early warning systems for extreme weather events.', 'In conclusion, climate change is a complex and multifaceted issue that demands urgent attention and action from \\nindividuals, communities, and governments worldwide.', 'By understanding the causes and impacts of climate change, \\nwe can work towards solutions that protect our planet and ensure a sustainable future for generations to come.']\n"
          ]
        }
      ],
      "source": [
        "sentences=sent_tokenize(text)\n",
        "print(sentences)"
      ]
    },
    {
      "cell_type": "code",
      "execution_count": null,
      "metadata": {
        "colab": {
          "background_save": true,
          "base_uri": "https://localhost:8080/"
        },
        "id": "ce-osmWq_lyJ",
        "outputId": "360d6daf-f349-49ad-f2fe-d51d889468fe"
      },
      "outputs": [
        {
          "data": {
            "text/plain": [
              "{'\\nClimate change refers to significant, long-term changes in the global climate.': 103,\n",
              " 'The global climate is the connected system of sun, earth, and oceans, wind, rain, \\nand snow, forests, deserts, and savannas, and everything people do, too.': 101,\n",
              " 'The climate of\\na place, say New York, can be described as its rainfall, changing temperatures during the year,\\nand so on.': 92,\n",
              " 'However, the global climate is more than the “average” of the climates of specific places.': 92,\n",
              " 'A climate change on a global scale requires a change in the energy balance of the earth.': 65,\n",
              " \"This might occur through changes in the sun's energy reaching the earth, changes in the reflected energy from \\nthe earth's surface, changes in the amount of heat held by the atmosphere, or a combination of these factors.\": 106,\n",
              " 'Over the last century, human activities have released large amounts of carbon dioxide and other greenhouse gases \\ninto the atmosphere, leading to an enhanced greenhouse effect and global warming.': 96,\n",
              " 'The consequences of climate change are profound and far-reaching.': 50,\n",
              " 'Rising temperatures are melting polar ice caps \\nand glaciers, leading to rising sea levels.': 81,\n",
              " 'This poses a threat to coastal communities, causing increased flooding \\nand erosion.': 78,\n",
              " 'Changes in precipitation patterns are resulting in more intense and frequent droughts in some areas, \\nwhile other regions experience heavier and more unpredictable rainfall, leading to flooding.': 103,\n",
              " 'Ecosystems and biodiversity are also at risk due to climate change.': 55,\n",
              " 'Many species are struggling to adapt to the \\nrapid changes in their environments, which can lead to shifts in population distributions and even extinctions.': 94,\n",
              " 'Ocean acidification, caused by increased CO2 absorption, is negatively affecting marine life, particularly coral \\nreefs and shellfish.': 81,\n",
              " 'Human health is directly impacted by climate change as well.': 54,\n",
              " 'Increased temperatures can lead to heatwaves, which \\npose serious health risks, particularly for vulnerable populations such as the elderly and those with preexisting \\nhealth conditions.': 89,\n",
              " 'The spread of infectious diseases is also influenced by changing climates, with diseases like \\nmalaria and dengue fever potentially expanding into new regions.': 99,\n",
              " 'Addressing climate change requires global cooperation and immediate action.': 59,\n",
              " 'Efforts to mitigate climate change \\ninclude reducing greenhouse gas emissions through the adoption of renewable energy sources, improving energy \\nefficiency, and promoting sustainable practices.': 113,\n",
              " 'Additionally, adaptation strategies are necessary to help \\ncommunities cope with the changes that are already occurring.': 94,\n",
              " 'This includes building resilient infrastructure, \\nprotecting natural ecosystems, and developing early warning systems for extreme weather events.': 83,\n",
              " 'In conclusion, climate change is a complex and multifaceted issue that demands urgent attention and action from \\nindividuals, communities, and governments worldwide.': 102,\n",
              " 'By understanding the causes and impacts of climate change, \\nwe can work towards solutions that protect our planet and ensure a sustainable future for generations to come.': 101}"
            ]
          },
          "execution_count": 9,
          "metadata": {},
          "output_type": "execute_result"
        }
      ],
      "source": [
        "# Function to score sentences based on word frequencies\n",
        "\n",
        "def score_sentences(sentences, freq_table):\n",
        "    sentence_value = {}\n",
        "    for sentence in sentences:\n",
        "        for word, freq in freq_table.items():\n",
        "            if word in sentence.lower():\n",
        "                if sentence in sentence_value:\n",
        "                    sentence_value[sentence] += freq\n",
        "                else:\n",
        "                    sentence_value[sentence] = freq\n",
        "    return sentence_value\n",
        "\n",
        "sentence_value = score_sentences(sentences, freq_table)\n",
        "print(sentence_value )"
      ]
    },
    {
      "cell_type": "code",
      "execution_count": null,
      "metadata": {
        "colab": {
          "background_save": true,
          "base_uri": "https://localhost:8080/"
        },
        "id": "zCqzM--6DeX3",
        "outputId": "2c095235-576b-48b9-c048-6935744fd687"
      },
      "outputs": [
        {
          "data": {
            "text/plain": [
              "86"
            ]
          },
          "execution_count": 10,
          "metadata": {},
          "output_type": "execute_result"
        }
      ],
      "source": [
        "# Function to calculate the average score of sentences\n",
        "\n",
        "def calculate_average_score(sentence_value):\n",
        "    sum_values = sum(sentence_value.values())\n",
        "    average = int(sum_values / len(sentence_value))\n",
        "    return average\n",
        "\n",
        "average_score = calculate_average_score(sentence_value)\n",
        "print(average_score)\n"
      ]
    },
    {
      "cell_type": "code",
      "execution_count": null,
      "metadata": {
        "id": "91kNdDAJbD_a",
        "outputId": "9af836e6-9847-4b4b-cfe3-74d60e08c385"
      },
      "outputs": [
        {
          "name": "stdout",
          "output_type": "stream",
          "text": [
            " \n",
            "Climate change refers to significant, long-term changes in the global climate. The global climate is the connected system of sun, earth, and oceans, wind, rain, \n",
            "and snow, forests, deserts, and savannas, and everything people do, too. The climate of\n",
            "a place, say New York, can be described as its rainfall, changing temperatures during the year,\n",
            "and so on. However, the global climate is more than the “average” of the climates of specific places. This might occur through changes in the sun's energy reaching the earth, changes in the reflected energy from \n",
            "the earth's surface, changes in the amount of heat held by the atmosphere, or a combination of these factors. Over the last century, human activities have released large amounts of carbon dioxide and other greenhouse gases \n",
            "into the atmosphere, leading to an enhanced greenhouse effect and global warming. Changes in precipitation patterns are resulting in more intense and frequent droughts in some areas, \n",
            "while other regions experience heavier and more unpredictable rainfall, leading to flooding. Many species are struggling to adapt to the \n",
            "rapid changes in their environments, which can lead to shifts in population distributions and even extinctions. Increased temperatures can lead to heatwaves, which \n",
            "pose serious health risks, particularly for vulnerable populations such as the elderly and those with preexisting \n",
            "health conditions. The spread of infectious diseases is also influenced by changing climates, with diseases like \n",
            "malaria and dengue fever potentially expanding into new regions. Efforts to mitigate climate change \n",
            "include reducing greenhouse gas emissions through the adoption of renewable energy sources, improving energy \n",
            "efficiency, and promoting sustainable practices. Additionally, adaptation strategies are necessary to help \n",
            "communities cope with the changes that are already occurring. In conclusion, climate change is a complex and multifaceted issue that demands urgent attention and action from \n",
            "individuals, communities, and governments worldwide. By understanding the causes and impacts of climate change, \n",
            "we can work towards solutions that protect our planet and ensure a sustainable future for generations to come.\n"
          ]
        }
      ],
      "source": [
        "# Function to generate summary based on sentence scores\n",
        "\n",
        "def generate_summary(sentences, sentence_value, threshold):\n",
        "    summary = ''\n",
        "    for sentence in sentences:\n",
        "        if sentence in sentence_value and sentence_value[sentence] > threshold:\n",
        "            summary += \" \" + sentence\n",
        "    return summary\n",
        "threshold = 1.0* average_score\n",
        "\n",
        "summary = generate_summary(sentences, sentence_value, threshold)\n",
        "print(summary)"
      ]
    },
    {
      "cell_type": "markdown",
      "metadata": {
        "id": "Jc-XSDncbD_a"
      },
      "source": [
        "# Summary"
      ]
    },
    {
      "cell_type": "code",
      "execution_count": null,
      "metadata": {
        "colab": {
          "base_uri": "https://localhost:8080/"
        },
        "id": "gNbRnvxxL_2d",
        "outputId": "0d8736a8-9b36-4311-a8bc-0f1e21120a9b"
      },
      "outputs": [
        {
          "name": "stdout",
          "output_type": "stream",
          "text": [
            "Original Text:\n",
            " \n",
            "Climate change refers to significant, long-term changes in the global climate. \n",
            "The global climate is the connected system of sun, earth, and oceans, wind, rain, \n",
            "and snow, forests, deserts, and savannas, and everything people do, too. The climate of\n",
            "a place, say New York, can be described as its rainfall, changing temperatures during the year,\n",
            "and so on. However, the global climate is more than the “average” of the climates of specific places.\n",
            "A climate change on a global scale requires a change in the energy balance of the earth. \n",
            "This might occur through changes in the sun's energy reaching the earth, changes in the reflected energy from \n",
            "the earth's surface, changes in the amount of heat held by the atmosphere, or a combination of these factors.\n",
            "Over the last century, human activities have released large amounts of carbon dioxide and other greenhouse gases \n",
            "into the atmosphere, leading to an enhanced greenhouse effect and global warming.\n",
            "The consequences of climate change are profound and far-reaching. Rising temperatures are melting polar ice caps \n",
            "and glaciers, leading to rising sea levels. This poses a threat to coastal communities, causing increased flooding \n",
            "and erosion. Changes in precipitation patterns are resulting in more intense and frequent droughts in some areas, \n",
            "while other regions experience heavier and more unpredictable rainfall, leading to flooding.\n",
            "Ecosystems and biodiversity are also at risk due to climate change. Many species are struggling to adapt to the \n",
            "rapid changes in their environments, which can lead to shifts in population distributions and even extinctions. \n",
            "Ocean acidification, caused by increased CO2 absorption, is negatively affecting marine life, particularly coral \n",
            "reefs and shellfish.\n",
            "Human health is directly impacted by climate change as well. Increased temperatures can lead to heatwaves, which \n",
            "pose serious health risks, particularly for vulnerable populations such as the elderly and those with preexisting \n",
            "health conditions. The spread of infectious diseases is also influenced by changing climates, with diseases like \n",
            "malaria and dengue fever potentially expanding into new regions.\n",
            "Addressing climate change requires global cooperation and immediate action. Efforts to mitigate climate change \n",
            "include reducing greenhouse gas emissions through the adoption of renewable energy sources, improving energy \n",
            "efficiency, and promoting sustainable practices. Additionally, adaptation strategies are necessary to help \n",
            "communities cope with the changes that are already occurring. This includes building resilient infrastructure, \n",
            "protecting natural ecosystems, and developing early warning systems for extreme weather events.\n",
            "In conclusion, climate change is a complex and multifaceted issue that demands urgent attention and action from \n",
            "individuals, communities, and governments worldwide. By understanding the causes and impacts of climate change, \n",
            "we can work towards solutions that protect our planet and ensure a sustainable future for generations to come.\n",
            "\n",
            "----------------------------------------------------------------------------------------------------------------\n",
            "\n",
            "Summarized Text:\n",
            "  \n",
            "Climate change refers to significant, long-term changes in the global climate. The global climate is the connected system of sun, earth, and oceans, wind, rain, \n",
            "and snow, forests, deserts, and savannas, and everything people do, too. The climate of\n",
            "a place, say New York, can be described as its rainfall, changing temperatures during the year,\n",
            "and so on. However, the global climate is more than the “average” of the climates of specific places. This might occur through changes in the sun's energy reaching the earth, changes in the reflected energy from \n",
            "the earth's surface, changes in the amount of heat held by the atmosphere, or a combination of these factors. Over the last century, human activities have released large amounts of carbon dioxide and other greenhouse gases \n",
            "into the atmosphere, leading to an enhanced greenhouse effect and global warming. Changes in precipitation patterns are resulting in more intense and frequent droughts in some areas, \n",
            "while other regions experience heavier and more unpredictable rainfall, leading to flooding. Many species are struggling to adapt to the \n",
            "rapid changes in their environments, which can lead to shifts in population distributions and even extinctions. Increased temperatures can lead to heatwaves, which \n",
            "pose serious health risks, particularly for vulnerable populations such as the elderly and those with preexisting \n",
            "health conditions. The spread of infectious diseases is also influenced by changing climates, with diseases like \n",
            "malaria and dengue fever potentially expanding into new regions. Efforts to mitigate climate change \n",
            "include reducing greenhouse gas emissions through the adoption of renewable energy sources, improving energy \n",
            "efficiency, and promoting sustainable practices. Additionally, adaptation strategies are necessary to help \n",
            "communities cope with the changes that are already occurring. In conclusion, climate change is a complex and multifaceted issue that demands urgent attention and action from \n",
            "individuals, communities, and governments worldwide. By understanding the causes and impacts of climate change, \n",
            "we can work towards solutions that protect our planet and ensure a sustainable future for generations to come.\n"
          ]
        }
      ],
      "source": [
        "print(\"Original Text:\\n\", text)\n",
        "print(\"----------------------------------------------------------------------------------------------------------------\")\n",
        "print(\"\\nSummarized Text:\\n\", summary)"
      ]
    },
    {
      "cell_type": "code",
      "execution_count": null,
      "metadata": {
        "id": "Qcv8GbAbbD_b"
      },
      "outputs": [],
      "source": [
        "\n"
      ]
    }
  ],
  "metadata": {
    "colab": {
      "provenance": []
    },
    "kernelspec": {
      "display_name": "Python 3 (ipykernel)",
      "language": "python",
      "name": "python3"
    },
    "language_info": {
      "codemirror_mode": {
        "name": "ipython",
        "version": 3
      },
      "file_extension": ".py",
      "mimetype": "text/x-python",
      "name": "python",
      "nbconvert_exporter": "python",
      "pygments_lexer": "ipython3",
      "version": "3.10.11"
    }
  },
  "nbformat": 4,
  "nbformat_minor": 0
}